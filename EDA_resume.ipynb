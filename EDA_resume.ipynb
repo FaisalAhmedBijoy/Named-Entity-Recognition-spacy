{
 "cells": [
  {
   "cell_type": "markdown",
   "id": "challenging-greenhouse",
   "metadata": {
    "papermill": {
     "duration": 0.019553,
     "end_time": "2021-06-27T07:55:57.598270",
     "exception": false,
     "start_time": "2021-06-27T07:55:57.578717",
     "status": "completed"
    },
    "tags": []
   },
   "source": [
    "## Import library\n"
   ]
  },
  {
   "cell_type": "code",
   "execution_count": 1,
   "id": "56cefdc9",
   "metadata": {},
   "outputs": [],
   "source": [
    "import re\n",
    "import json\n",
    "import re \n",
    "import json\n",
    "from pprint import pprint"
   ]
  },
  {
   "cell_type": "markdown",
   "id": "cdd901c4",
   "metadata": {},
   "source": [
    "## Convert data from Dataturks to SpaCy"
   ]
  },
  {
   "cell_type": "code",
   "execution_count": 4,
   "id": "christian-bradley",
   "metadata": {
    "execution": {
     "iopub.execute_input": "2021-06-27T07:55:57.653403Z",
     "iopub.status.busy": "2021-06-27T07:55:57.652392Z",
     "iopub.status.idle": "2021-06-27T07:55:57.655353Z",
     "shell.execute_reply": "2021-06-27T07:55:57.654736Z",
     "shell.execute_reply.started": "2021-06-26T20:11:48.103154Z"
    },
    "papermill": {
     "duration": 0.037449,
     "end_time": "2021-06-27T07:55:57.655489",
     "exception": false,
     "start_time": "2021-06-27T07:55:57.618040",
     "status": "completed"
    },
    "tags": []
   },
   "outputs": [],
   "source": [
    "def convert_dataturks_to_spacy(dataturks_JSON_FilePath):\n",
    "    training_data = []\n",
    "    lines=[]\n",
    "    with open(dataturks_JSON_FilePath, 'r') as f:\n",
    "        lines = f.readlines()\n",
    "\n",
    "    for line in lines:\n",
    "        data = json.loads(line)\n",
    "        text = data['content'].replace(\"\\n\", \" \")\n",
    "        entities = []\n",
    "        data_annotations = data['annotation']\n",
    "        if data_annotations is not None:\n",
    "            for annotation in data_annotations:\n",
    "                #only a single point in text annotation.\n",
    "                point = annotation['points'][0]\n",
    "                labels = annotation['label']\n",
    "                # handle both list of labels or a single label.\n",
    "                if not isinstance(labels, list):\n",
    "                    labels = [labels]\n",
    "\n",
    "                for label in labels:\n",
    "                    point_start = point['start']\n",
    "                    point_end = point['end']\n",
    "                    point_text = point['text']\n",
    "\n",
    "                    lstrip_diff = len(point_text) - len(point_text.lstrip())\n",
    "                    rstrip_diff = len(point_text) - len(point_text.rstrip())\n",
    "                    if lstrip_diff != 0:\n",
    "                        point_start = point_start + lstrip_diff\n",
    "                    if rstrip_diff != 0:\n",
    "                        point_end = point_end - rstrip_diff\n",
    "                    entities.append((point_start, point_end + 1 , label))\n",
    "        training_data.append((text, {\"entities\" : entities}))\n",
    "    return training_data\n",
    "\n",
    "def trim_entity_spans(data: list) -> list:\n",
    "    \"\"\"Removes leading and trailing white spaces from entity spans.\n",
    "\n",
    "    Args:\n",
    "        data (list): The data to be cleaned in spaCy JSON format.\n",
    "\n",
    "    Returns:\n",
    "        list: The cleaned data.\n",
    "    \"\"\"\n",
    "    invalid_span_tokens = re.compile(r'\\s')\n",
    "\n",
    "    cleaned_data = []\n",
    "    for text, annotations in data:\n",
    "        entities = annotations['entities']\n",
    "        valid_entities = []\n",
    "        for start, end, label in entities:\n",
    "            valid_start = start\n",
    "            valid_end = end\n",
    "            while valid_start < len(text) and invalid_span_tokens.match(\n",
    "                    text[valid_start]):\n",
    "                valid_start += 1\n",
    "            while valid_end > 1 and invalid_span_tokens.match(\n",
    "                    text[valid_end - 1]):\n",
    "                valid_end -= 1\n",
    "            valid_entities.append([valid_start, valid_end, label])\n",
    "        cleaned_data.append([text, {'entities': valid_entities}])\n",
    "    return cleaned_data"
   ]
  },
  {
   "cell_type": "markdown",
   "id": "a77e603b",
   "metadata": {},
   "source": [
    "## Analysis the Dataset"
   ]
  },
  {
   "cell_type": "code",
   "execution_count": 5,
   "id": "editorial-messaging",
   "metadata": {
    "execution": {
     "iopub.execute_input": "2021-06-27T07:55:57.699633Z",
     "iopub.status.busy": "2021-06-27T07:55:57.698934Z",
     "iopub.status.idle": "2021-06-27T07:55:57.776014Z",
     "shell.execute_reply": "2021-06-27T07:55:57.775417Z",
     "shell.execute_reply.started": "2021-06-26T20:11:48.1177Z"
    },
    "papermill": {
     "duration": 0.10081,
     "end_time": "2021-06-27T07:55:57.776146",
     "exception": false,
     "start_time": "2021-06-27T07:55:57.675336",
     "status": "completed"
    },
    "tags": []
   },
   "outputs": [
    {
     "name": "stdout",
     "output_type": "stream",
     "text": [
      "['Abhishek Jha Application Development Associate - Accenture  Bengaluru, '\n",
      " 'Karnataka - Email me on Indeed: indeed.com/r/Abhishek-Jha/10e7a8cb732bc43a  '\n",
      " '• To work for an organization which provides me the opportunity to improve '\n",
      " \"my skills and knowledge for my individual and company's growth in best \"\n",
      " 'possible ways.  Willing to relocate to: Bangalore, Karnataka  WORK '\n",
      " 'EXPERIENCE  Application Development Associate  Accenture -  November 2017 to '\n",
      " 'Present  Role: Currently working on Chat-bot. Developing Backend Oracle '\n",
      " 'PeopleSoft Queries for the Bot which will be triggered based on given input. '\n",
      " 'Also, Training the bot for different possible utterances (Both positive and '\n",
      " 'negative), which will be given as input by the user.  EDUCATION  B.E in '\n",
      " 'Information science and engineering  B.v.b college of engineering and '\n",
      " 'technology -  Hubli, Karnataka  August 2013 to June 2017  12th in '\n",
      " 'Mathematics  Woodbine modern school  April 2011 to March 2013  10th  '\n",
      " 'Kendriya Vidyalaya  April 2001 to March 2011  SKILLS  C (Less than 1 year), '\n",
      " 'Database (Less than 1 year), Database Management (Less than 1 year), '\n",
      " 'Database Management System (Less than 1 year), Java (Less than 1 year)  '\n",
      " 'ADDITIONAL INFORMATION  Technical Skills  '\n",
      " 'https://www.indeed.com/r/Abhishek-Jha/10e7a8cb732bc43a?isid=rex-download&ikw=download-top&co=IN   '\n",
      " '• Programming language: C, C++, Java • Oracle PeopleSoft • Internet Of '\n",
      " 'Things • Machine Learning • Database Management System • Computer Networks • '\n",
      " 'Operating System worked on: Linux, Windows, Mac  Non - Technical Skills  • '\n",
      " 'Honest and Hard-Working • Tolerant and Flexible to Different Situations • '\n",
      " 'Polite and Calm • Team-Player',\n",
      " {'entities': [[1296, 1622, 'Skills'],\n",
      "               [993, 1154, 'Skills'],\n",
      "               [939, 957, 'College Name'],\n",
      "               [883, 905, 'College Name'],\n",
      "               [856, 860, 'Graduation Year'],\n",
      "               [771, 814, 'College Name'],\n",
      "               [727, 769, 'Designation'],\n",
      "               [407, 416, 'Companies worked at'],\n",
      "               [372, 405, 'Designation'],\n",
      "               [95, 145, 'Email Address'],\n",
      "               [60, 69, 'Location'],\n",
      "               [49, 58, 'Companies worked at'],\n",
      "               [13, 46, 'Designation'],\n",
      "               [0, 12, 'Name']]}]\n"
     ]
    }
   ],
   "source": [
    "dataset_path='data/Entity Recognition in Resumes.json'\n",
    "data = trim_entity_spans(convert_dataturks_to_spacy(dataset_path))\n",
    "pprint(data[0])"
   ]
  },
  {
   "cell_type": "code",
   "execution_count": 6,
   "id": "cd19fde7",
   "metadata": {},
   "outputs": [
    {
     "name": "stdout",
     "output_type": "stream",
     "text": [
      "Total dataset:  220\n"
     ]
    }
   ],
   "source": [
    "print(\"Total dataset: \",len(data))"
   ]
  },
  {
   "cell_type": "code",
   "execution_count": 24,
   "id": "c2ca6249",
   "metadata": {},
   "outputs": [
    {
     "name": "stdout",
     "output_type": "stream",
     "text": [
      "Sample resume texts:\n",
      "('Abhishek Jha Application Development Associate - Accenture  Bengaluru, '\n",
      " 'Karnataka - Email me on Indeed: indeed.com/r/Abhishek-Jha/10e7a8cb732bc43a  '\n",
      " '• To work for an organization which provides me the opportunity to improve '\n",
      " \"my skills and knowledge for my individual and company's growth in best \"\n",
      " 'possible ways.  Willing to relocate to: Bangalore, Karnataka  WORK '\n",
      " 'EXPERIENCE  Application Development Associate  Accenture -  November 2017 to '\n",
      " 'Present  Role: Currently working on Chat-bot. Developing Backend Oracle '\n",
      " 'PeopleSoft Queries for the Bot which will be triggered based on given input. '\n",
      " 'Also, Training the bot for different possible utterances (Both positive and '\n",
      " 'negative), which will be given as input by the user.  EDUCATION  B.E in '\n",
      " 'Information science and engineering  B.v.b college of engineering and '\n",
      " 'technology -  Hubli, Karnataka  August 2013 to June 2017  12th in '\n",
      " 'Mathematics  Woodbine modern school  April 2011 to March 2013  10th  '\n",
      " 'Kendriya Vidyalaya  April 2001 to March 2011  SKILLS  C (Less than 1 year), '\n",
      " 'Database (Less than 1 year), Database Management (Less than 1 year), '\n",
      " 'Database Management System (Less than 1 year), Java (Less than 1 year)  '\n",
      " 'ADDITIONAL INFORMATION  Technical Skills  '\n",
      " 'https://www.indeed.com/r/Abhishek-Jha/10e7a8cb732bc43a?isid=rex-download&ikw=download-top&co=IN   '\n",
      " '• Programming language: C, C++, Java • Oracle PeopleSoft • Internet Of '\n",
      " 'Things • Machine Learning • Database Management System • Computer Networks • '\n",
      " 'Operating System worked on: Linux, Windows, Mac  Non - Technical Skills  • '\n",
      " 'Honest and Hard-Working • Tolerant and Flexible to Different Situations • '\n",
      " 'Polite and Calm • Team-Player')\n"
     ]
    }
   ],
   "source": [
    "print('Sample resume texts:')\n",
    "pprint(data[0][0])"
   ]
  },
  {
   "cell_type": "code",
   "execution_count": 31,
   "id": "daf8e35b",
   "metadata": {},
   "outputs": [
    {
     "name": "stdout",
     "output_type": "stream",
     "text": [
      "Entity with start and end position in the text:\n",
      "{'entities': [[1296, 1622, 'Skills'],\n",
      "              [993, 1154, 'Skills'],\n",
      "              [939, 957, 'College Name'],\n",
      "              [883, 905, 'College Name'],\n",
      "              [856, 860, 'Graduation Year'],\n",
      "              [771, 814, 'College Name'],\n",
      "              [727, 769, 'Designation'],\n",
      "              [407, 416, 'Companies worked at'],\n",
      "              [372, 405, 'Designation'],\n",
      "              [95, 145, 'Email Address'],\n",
      "              [60, 69, 'Location'],\n",
      "              [49, 58, 'Companies worked at'],\n",
      "              [13, 46, 'Designation'],\n",
      "              [0, 12, 'Name']]}\n"
     ]
    }
   ],
   "source": [
    "print(\"Entity with start and end position in the text:\")\n",
    "pprint(data[0][1])"
   ]
  },
  {
   "cell_type": "code",
   "execution_count": 61,
   "id": "093d2867",
   "metadata": {},
   "outputs": [
    {
     "name": "stdout",
     "output_type": "stream",
     "text": [
      "person number:  1\n",
      "Skills\n",
      "Skills\n",
      "College Name\n",
      "College Name\n",
      "Graduation Year\n",
      "College Name\n",
      "Designation\n",
      "Companies worked at\n",
      "Designation\n",
      "Email Address\n",
      "Location\n",
      "Companies worked at\n",
      "Designation\n",
      "Name\n",
      "\n",
      "\n",
      "person number:  2\n",
      "Email Address\n",
      "Skills\n",
      "Graduation Year\n",
      "College Name\n",
      "Degree\n",
      "Graduation Year\n",
      "College Name\n",
      "Degree\n",
      "Email Address\n",
      "Location\n",
      "Name\n",
      "\n",
      "\n",
      "person number:  3\n",
      "Skills\n",
      "Skills\n",
      "Skills\n",
      "Skills\n",
      "Skills\n",
      "Skills\n",
      "Skills\n",
      "Skills\n",
      "Skills\n",
      "College Name\n",
      "Degree\n",
      "Location\n",
      "Companies worked at\n",
      "Designation\n",
      "Location\n",
      "Companies worked at\n",
      "Designation\n",
      "Email Address\n",
      "Location\n",
      "Name\n",
      "\n",
      "\n"
     ]
    }
   ],
   "source": [
    "for index,person in enumerate(data[:3]):\n",
    "    print(\"person number: \",index+1)\n",
    "    for entity in person[1]['entities']:\n",
    "        print(entity[2])\n",
    "    print('\\n')\n"
   ]
  },
  {
   "cell_type": "markdown",
   "id": "reliable-astronomy",
   "metadata": {
    "papermill": {
     "duration": 0.075142,
     "end_time": "2021-06-27T07:57:22.037446",
     "exception": false,
     "start_time": "2021-06-27T07:57:21.962304",
     "status": "completed"
    },
    "tags": []
   },
   "source": [
    "### Train Test Split"
   ]
  },
  {
   "cell_type": "code",
   "execution_count": 7,
   "id": "together-deviation",
   "metadata": {
    "execution": {
     "iopub.execute_input": "2021-06-27T07:57:22.191471Z",
     "iopub.status.busy": "2021-06-27T07:57:22.190499Z",
     "iopub.status.idle": "2021-06-27T07:57:22.194256Z",
     "shell.execute_reply": "2021-06-27T07:57:22.193590Z",
     "shell.execute_reply.started": "2021-06-26T20:12:53.998793Z"
    },
    "papermill": {
     "duration": 0.083463,
     "end_time": "2021-06-27T07:57:22.194402",
     "exception": false,
     "start_time": "2021-06-27T07:57:22.110939",
     "status": "completed"
    },
    "tags": []
   },
   "outputs": [],
   "source": [
    "import random\n",
    "import math\n",
    "\n",
    "def train_test_split(data, test_size, random_state):\n",
    "\n",
    "    random.Random(random_state).shuffle(data)\n",
    "    test_idx = len(data) - math.floor(test_size * len(data))\n",
    "    train_set = data[0: test_idx]\n",
    "    test_set = data[test_idx: ]\n",
    "\n",
    "    return train_set, test_set"
   ]
  },
  {
   "cell_type": "code",
   "execution_count": 8,
   "id": "accessible-horizon",
   "metadata": {
    "execution": {
     "iopub.execute_input": "2021-06-27T07:57:22.349522Z",
     "iopub.status.busy": "2021-06-27T07:57:22.348830Z",
     "iopub.status.idle": "2021-06-27T07:57:22.351288Z",
     "shell.execute_reply": "2021-06-27T07:57:22.350728Z",
     "shell.execute_reply.started": "2021-06-26T20:12:54.009576Z"
    },
    "papermill": {
     "duration": 0.082035,
     "end_time": "2021-06-27T07:57:22.351430",
     "exception": false,
     "start_time": "2021-06-27T07:57:22.269395",
     "status": "completed"
    },
    "tags": []
   },
   "outputs": [
    {
     "name": "stdout",
     "output_type": "stream",
     "text": [
      "train set len:  198\n",
      "test set len:  22\n"
     ]
    }
   ],
   "source": [
    "train_data, test_data = train_test_split(data, test_size = 0.1, random_state = 42)\n",
    "print('train set len: ',len(train_data))\n",
    "print('test set len: ',len(test_data))"
   ]
  }
 ],
 "metadata": {
  "kernelspec": {
   "display_name": "Python 3",
   "language": "python",
   "name": "python3"
  },
  "language_info": {
   "codemirror_mode": {
    "name": "ipython",
    "version": 3
   },
   "file_extension": ".py",
   "mimetype": "text/x-python",
   "name": "python",
   "nbconvert_exporter": "python",
   "pygments_lexer": "ipython3",
   "version": "3.11.5"
  },
  "papermill": {
   "default_parameters": {},
   "duration": 363.96657,
   "end_time": "2021-06-27T08:01:53.067747",
   "environment_variables": {},
   "exception": null,
   "input_path": "__notebook__.ipynb",
   "output_path": "__notebook__.ipynb",
   "parameters": {},
   "start_time": "2021-06-27T07:55:49.101177",
   "version": "2.3.3"
  }
 },
 "nbformat": 4,
 "nbformat_minor": 5
}
